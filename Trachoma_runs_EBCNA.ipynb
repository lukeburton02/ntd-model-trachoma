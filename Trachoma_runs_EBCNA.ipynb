{
 "cells": [
  {
   "cell_type": "code",
   "execution_count": 58,
   "metadata": {},
   "outputs": [],
   "source": [
    "import numpy as np\n",
    "from datetime import date\n",
    "import matplotlib.pyplot as plt\n",
    "import pandas as pd\n",
    "import copy\n",
    "import pkg_resources\n",
    "from numpy import ndarray\n",
    "from numpy.typing import NDArray\n",
    "from dataclasses import dataclass\n",
    "from typing import Callable, List, Optional\n"
   ]
  },
  {
   "cell_type": "code",
   "execution_count": 60,
   "metadata": {},
   "outputs": [],
   "source": [
    "from trachoma.trachoma_functions import *\n",
    "import multiprocessing\n",
    "from joblib import Parallel, delayed\n",
    "import pkg_resources\n",
    "num_cores = multiprocessing.cpu_count()\n",
    "\n",
    "#############################################################################################################################\n",
    "#############################################################################################################################\n",
    "\n",
    "# initialize parameters, sim_params, and demography\n",
    "\n",
    "params = {'N': 10000,\n",
    "          'av_I_duration' : 2,\n",
    "          'av_ID_duration':200/7,\n",
    "          'inf_red':0.45,\n",
    "          'min_ID':11, #Parameters relating to duration of infection period, including ID period\n",
    "          'av_D_duration':300/7,\n",
    "          'min_D':1, #Parameters relating to duration of disease period\n",
    "          'v_1':1,\n",
    "          'v_2':2.6,\n",
    "          'phi':1.4,\n",
    "          'epsilon':0.5,#Parameters relating to lambda function- calculating force of infection\n",
    "          #Parameters relating to MDA\n",
    "          'MDA_Cov':0.8,\n",
    "          'MDA_Eff': 0.85, # Efficacy of treatment\n",
    "          'rho':0.3,\n",
    "          'nweeks_year':52,\n",
    "          'babiesMaxAge':0.5, #Note this is years, need to check it converts to weeks later\n",
    "          'youngChildMaxAge':9,#Note this is years, need to check it converts to weeks later\n",
    "          'olderChildMaxAge':15, #Note this is years, need to check it converts to weeks later\n",
    "          'b1':1,#this relates to bacterial load function\n",
    "          'ep2':0.114,\n",
    "          'n_inf_sev':38,\n",
    "          'TestSensitivity': 0.96,\n",
    "          'TestSpecificity': 0.965,\n",
    "          'SecularTrendIndicator': 0,\n",
    "          'SecularTrendYearlyBetaDecrease': 0.01,\n",
    "          'vacc_prob_block_transmission':  0.6, \n",
    "          'vacc_reduce_bacterial_load': 1, \n",
    "          'vacc_reduce_duration': 1,\n",
    "          'vacc_coverage': 0,  \n",
    "          'vacc_waning_length': 52 * 5}\n",
    "\n",
    "\n",
    "burnin = 100*52\n",
    "timesim = burnin + 31*52\n",
    "\n",
    "sim_params = {'timesim': timesim, \n",
    "              'burnin': burnin,\n",
    "              'N_MDA':5, # irrelevant due to input method\n",
    "              'n_sim':100}\n",
    "\n",
    "\n",
    "demog = {'tau': 0.0004807692, \n",
    "         'max_age': 3120,\n",
    "         'mean_age': 1040}\n",
    "\n",
    "\n",
    "\n",
    "previous_rounds = 0\n",
    "\n",
    "\n",
    "Start_date = date(2010,1, 1)\n",
    "End_date = date(2040,12,31)\n"
   ]
  },
  {
   "cell_type": "markdown",
   "metadata": {},
   "source": [
    "## Modifying Matt's updated run folder to include the version of sim_Ind_MDA which includes vaccination. Need to update/match inputs for SimulationFunction."
   ]
  },
  {
   "cell_type": "code",
   "execution_count": 61,
   "metadata": {},
   "outputs": [],
   "source": [
    "def seed_to_state(seed):\n",
    "    np.random.seed(seed)\n",
    "    return np.random.get_state()\n",
    "\n",
    "outputYear = range(2019, 2041) # CHECK this, was 2019 to 2041\n",
    "outputTimes = getOutputTimes(outputYear)\n",
    "outputTimes = get_Intervention_times(outputTimes, Start_date, sim_params['burnin'])\n",
    "\n",
    "# this is essentially the same as the original version of the Trachoma_Simulation function\n",
    "\n",
    "def SimulationFunction(params, sim_params, demog, MDA_times, MDAData, vacc_times, VaccData, seed_bump, beta):\n",
    "\n",
    "    # Longitudinal simulations:\n",
    "\n",
    "    # Setting beta; the higher this is the higher the prevalence. 0.12 has prevalence around 20%\n",
    "    #bet = np.random.uniform(size=sim_params['n_sim'], low=0.1, high=0.12)\n",
    "    bet = np.ones(sim_params['n_sim']) * beta\n",
    "    # Run multiple simulations\n",
    "    def multiple_simulations(i):\n",
    "        seed = i * seed_bump\n",
    "\n",
    "        # Generate some random numbers\n",
    "        np.random.seed(seed)\n",
    "# we generate a numpy state for each simulation by saving a state. If the seed is set above, this will be consistent from run to run\n",
    "        numpy_states = list(map(lambda s: seed_to_state(s), np.random.randint(2^32, size=1)))\n",
    "        vals = Set_inits(params=params, demog=demog, sim_params = sim_params, MDAData=MDAData, numpy_state = numpy_states[0])    # Set initial conditions\n",
    "        vals = Seed_infection(params=params, vals=vals) # Seed infection\n",
    "        \n",
    "        # vals = Check_and_init_MDA_and_survey_counts(vals, numpy_states[0])\n",
    "        \n",
    "        vals = Check_and_init_vaccination_state(params,vals)\n",
    "        \n",
    "        vals = Check_and_init_MDA_treatment_state(params, vals, MDAData, numpy_state=numpy_states[0])\n",
    "        \n",
    "        out, results = sim_Ind_MDA_Include_Survey(params, vals, timesim, burnin, demog, bet[i], MDA_times, MDAData, vacc_times, VaccData, outputTimes, doSurvey = False, doIHMEOutput = False, numpy_state = numpy_states[0])\n",
    "        return out\n",
    "\n",
    "    data_store_all_sim = Parallel(n_jobs=num_cores)(delayed(multiple_simulations)(i) for i in range(sim_params['n_sim']))\n",
    "\n",
    "    return data_store_all_sim\n",
    "\n",
    "\n",
    "\n",
    "\n",
    "# analyse the runs of the simulations\n",
    "# we return some aggregated results along with the raw data\n",
    "def analyseResults(data, sim_params):\n",
    "\n",
    "    True_Prev_Infection_children_1_9 = np.zeros(shape=(sim_params['timesim'] , sim_params['n_sim']))\n",
    "    True_Prev_Disease_children_1_9 = np.zeros(shape=(sim_params['timesim'] , sim_params['n_sim']))\n",
    "    #True_Prev_Disease = np.zeros(shape=(sim_params['timesim'] , sim_params['n_sim']))\n",
    "    #True_Prev_Infection = np.zeros(shape=(sim_params['timesim'] , sim_params['n_sim']))\n",
    "    Time = np.arange(sim_params['timesim'] )\n",
    "\n",
    "    \n",
    "    for i in range(sim_params['n_sim']):\n",
    "\n",
    "        #True_Prev_Disease[:, i] = data[i]['True_Prev_Disease'][0: sim_params['timesim']]\n",
    "        #True_Prev_Infection[:, i] = data[i]['True_Prev_Infection'][0: sim_params['timesim']]\n",
    "        True_Prev_Infection_children_1_9[:, i] = data[i]['True_Prev_Infection_children_1_9'][0: sim_params['timesim']]\n",
    "        True_Prev_Disease_children_1_9[:, i] = data[i]['True_Prev_Disease_children_1_9'][0: sim_params['timesim']]\n",
    "\n",
    "    \n",
    "    results = pd.DataFrame({'Time': Time / 52,\n",
    "                            'Mean_Disease_Children': np.mean(True_Prev_Disease_children_1_9, axis=1),\n",
    "                            'Mean_Infection_Children': np.mean(True_Prev_Infection_children_1_9, axis=1),\n",
    "                            #'Mean_Disease_All': np.mean(True_Prev_Disease, axis=1),\n",
    "                            #'Mean_Infection_All': np.mean(True_Prev_Infection, axis=1),\n",
    "                            'Median_Disease_Children': np.median(True_Prev_Disease_children_1_9, axis=1),\n",
    "                            'Median_Infection_Children': np.median(True_Prev_Infection_children_1_9, axis=1),\n",
    "                            #'Median_Disease_All': np.median(True_Prev_Disease, axis=1),\n",
    "                            #'Median_Infection_All': np.median(True_Prev_Infection, axis=1)\n",
    "                            })\n",
    "\n",
    "    return results,True_Prev_Infection_children_1_9, True_Prev_Disease_children_1_9 #, True_Prev_Disease, True_Prev_Infection, \n",
    "\n",
    "\n",
    "\n",
    "\n",
    "# function to get the MDA data for the specified coverage file\n",
    "def get_MDA_data(coverageFileName):\n",
    "    MDAData = readPlatformData(coverageFileName, \"MDA\")\n",
    "    MDA_dates = getInterventionDates(MDAData)\n",
    "    MDA_times = get_Intervention_times(MDA_dates, Start_date, sim_params['burnin'])\n",
    "    return MDAData, MDA_times\n",
    "\n",
    "# function to get the vaccination data for the specified coverage file\n",
    "def get_vacc_data(coverageFileName):\n",
    "    VaccData = readPlatformData(coverageFileName, \"Vaccine\")\n",
    "    vacc_dates = getInterventionDates(VaccData)\n",
    "    vacc_times = get_Intervention_times(vacc_dates, Start_date, sim_params['burnin'])\n",
    "    return VaccData, vacc_times"
   ]
  },
  {
   "cell_type": "code",
   "execution_count": 62,
   "metadata": {},
   "outputs": [],
   "source": [
    "\n",
    "seed = 100\n",
    "beta = 0.22\n"
   ]
  },
  {
   "cell_type": "markdown",
   "metadata": {},
   "source": [
    "## Scenarios chosen by Ellie and Claudio"
   ]
  },
  {
   "cell_type": "code",
   "execution_count": 63,
   "metadata": {},
   "outputs": [],
   "source": [
    "# loading in each scenario - currently just two and a baseline\n",
    "MDADataBL, MDA_timesBL = get_MDA_data(\"scen_ellie_bl.csv\")\n",
    "VaccDataBL, vacc_timesBL = get_vacc_data(\"scen_ellie_bl.csv\")\n",
    "\n",
    "MDADataCW, MDA_timesCW = get_MDA_data(\"scen_ellie_cw.csv\")\n",
    "VaccDataCW, vacc_timesCW = get_vacc_data(\"scen_ellie_cw.csv\")\n",
    "\n",
    "MDADataCO, MDA_timesCO = get_MDA_data(\"scen_ellie_co.csv\")\n",
    "VaccDataCO, vacc_timesCO = get_vacc_data(\"scen_ellie_co.csv\")"
   ]
  },
  {
   "cell_type": "code",
   "execution_count": 64,
   "metadata": {},
   "outputs": [],
   "source": [
    "res_el = [[] for _ in range(9)]"
   ]
  },
  {
   "cell_type": "code",
   "execution_count": null,
   "metadata": {},
   "outputs": [],
   "source": [
    "# runs 0-4\n",
    "\n",
    "data_el_0 = SimulationFunction(params, sim_params, demog, MDA_timesBL, MDADataBL, vacc_timesBL, VaccDataBL, seed_bump = seed, beta = beta)\n",
    "res_el[0] = analyseResults(data_el_0, sim_params)\n",
    "\n",
    "params['vacc_prob_block_transmission'] = 0.5\n",
    "params['vacc_waning_length'] = 1 * 52\n",
    "\n",
    "data_el_1 = SimulationFunction(params, sim_params, demog, MDA_timesCO, MDADataCO, vacc_timesCO, VaccDataCO, seed_bump = seed, beta = beta)\n",
    "res_el[1] = analyseResults(data_el_1, sim_params)\n",
    "\n",
    "data_el_2 = SimulationFunction(params, sim_params, demog, MDA_timesCW, MDADataCW, vacc_timesCW, VaccDataCW, seed_bump = seed, beta = beta)\n",
    "res_el[2] = analyseResults(data_el_2, sim_params)\n",
    "\n",
    "params['vacc_waning_length'] = 15 * 52\n",
    "\n",
    "data_el_3 = SimulationFunction(params, sim_params, demog, MDA_timesCO, MDADataCO, vacc_timesCO, VaccDataCO, seed_bump = seed, beta = beta)\n",
    "res_el[3] = analyseResults(data_el_3, sim_params)\n",
    "\n",
    "data_el_4 = SimulationFunction(params, sim_params, demog, MDA_timesCW, MDADataCW, vacc_timesCW, VaccDataCW, seed_bump = seed, beta = beta)\n",
    "res_el[4] = analyseResults(data_el_4, sim_params)"
   ]
  },
  {
   "cell_type": "code",
   "execution_count": null,
   "metadata": {},
   "outputs": [],
   "source": [
    "# runs 5-8\n",
    "\n",
    "params['vacc_prob_block_transmission'] = 0.9\n",
    "params['vacc_waning_length'] = 1 * 52\n",
    "\n",
    "data_el_5 = SimulationFunction(params, sim_params, demog, MDA_timesCO, MDADataCO, vacc_timesCO, VaccDataCO, seed_bump = seed, beta = beta)\n",
    "res_el[5] = analyseResults(data_el_5, sim_params)\n",
    "\n",
    "data_el_6 = SimulationFunction(params, sim_params, demog, MDA_timesCW, MDADataCW, vacc_timesCW, VaccDataCW, seed_bump = seed, beta = beta)\n",
    "res_el[6] = analyseResults(data_el_6, sim_params)\n",
    "\n",
    "params['vacc_waning_length'] = 15 * 52\n",
    "\n",
    "data_el_7 = SimulationFunction(params, sim_params, demog, MDA_timesCO, MDADataCO, vacc_timesCO, VaccDataCO, seed_bump = seed, beta = beta)\n",
    "res_el[7] = analyseResults(data_el_7, sim_params)\n",
    "\n",
    "data_el_8 = SimulationFunction(params, sim_params, demog, MDA_timesCW, MDADataCW, vacc_timesCW, VaccDataCW, seed_bump = seed, beta = beta)\n",
    "res_el[8] = analyseResults(data_el_8, sim_params)"
   ]
  },
  {
   "cell_type": "code",
   "execution_count": null,
   "metadata": {
    "scrolled": false
   },
   "outputs": [],
   "source": [
    "import matplotlib.pyplot as plt\n",
    "start_year = 2010-burnin/52 # was 2018 - check to match csv dates\n",
    "\n",
    "scenarios = [0,1,2,3,4,5,6,7,8]\n",
    "\n",
    "for i in scenarios:\n",
    "    plt.plot(start_year + np.array(res_el[0][0]['Time'][(sim_params['burnin']-100): sim_params['timesim']]),np.array(res_el[i][0]['Median_Disease_Children'][(sim_params['burnin']-100): sim_params['timesim']]))\n",
    "    \n",
    "plt.legend(['Scen' + str(i) for i in range(9)]) \n",
    "plt.title(\"Prevalence of disease in children 1-9\")\n",
    "plt.xlim([2018,2042])"
   ]
  },
  {
   "cell_type": "code",
   "execution_count": null,
   "metadata": {
    "scrolled": false
   },
   "outputs": [],
   "source": [
    "scenarios = [0,1,2,3,4,5,6,7,8]\n",
    "\n",
    "for i in scenarios:\n",
    "    plt.plot(start_year + np.array(res_el[0][0]['Time'][(sim_params['burnin']-100): sim_params['timesim']]),np.array(res_el[i][0]['Median_Infection_Children'][(sim_params['burnin']-100): sim_params['timesim']]))\n",
    "    \n",
    "plt.legend(['Scen' + str(i) for i in range(9)]) \n",
    "plt.title(\"Prevalence of infection in children 1-9\")\n",
    "plt.xlim([2018,2042])"
   ]
  },
  {
   "cell_type": "markdown",
   "metadata": {},
   "source": [
    "## Export"
   ]
  },
  {
   "cell_type": "code",
   "execution_count": 53,
   "metadata": {},
   "outputs": [],
   "source": [
    "#scenM1 = res_no_interruption[0]['Median_Infection_Children']\n",
    "#scenM2 = res_interrupt_no_mitigation[0]['Median_Infection_Children']\n",
    "#scenM3 = res_interrupt_mitigation[0]['Median_Infection_Children']"
   ]
  },
  {
   "cell_type": "code",
   "execution_count": 54,
   "metadata": {},
   "outputs": [
    {
     "ename": "SyntaxError",
     "evalue": "incomplete input (1888117950.py, line 1)",
     "output_type": "error",
     "traceback": [
      "\u001b[1;36m  Cell \u001b[1;32mIn[54], line 1\u001b[1;36m\u001b[0m\n\u001b[1;33m    '''\u001b[0m\n\u001b[1;37m    ^\u001b[0m\n\u001b[1;31mSyntaxError\u001b[0m\u001b[1;31m:\u001b[0m incomplete input\n"
     ]
    }
   ],
   "source": [
    "'''\n",
    "exportmatt = pd.DataFrame({'scenM1': scenM1,\n",
    "                          'scenM2': scenM2,\n",
    "                          'scenM3': scenM3})"
   ]
  },
  {
   "cell_type": "code",
   "execution_count": null,
   "metadata": {},
   "outputs": [],
   "source": [
    "#exportmatt.to_csv('matt.csv', index=True)"
   ]
  }
 ],
 "metadata": {
  "kernelspec": {
   "display_name": "Python 3 (ipykernel)",
   "language": "python",
   "name": "python3"
  },
  "language_info": {
   "codemirror_mode": {
    "name": "ipython",
    "version": 3
   },
   "file_extension": ".py",
   "mimetype": "text/x-python",
   "name": "python",
   "nbconvert_exporter": "python",
   "pygments_lexer": "ipython3",
   "version": "3.11.5"
  }
 },
 "nbformat": 4,
 "nbformat_minor": 2
}
